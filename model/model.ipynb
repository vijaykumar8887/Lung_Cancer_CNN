{
 "cells": [
  {
   "cell_type": "code",
   "execution_count": 1,
   "metadata": {
    "executionInfo": {
     "elapsed": 4002,
     "status": "ok",
     "timestamp": 1610791195915,
     "user": {
      "displayName": "sathish kumar",
      "photoUrl": "",
      "userId": "09811313852492528034"
     },
     "user_tz": -330
    },
    "id": "-JgPqiPJGB0a"
   },
   "outputs": [],
   "source": [
    "import tensorflow as tf\n",
<<<<<<< HEAD
    "import numpy as np\n",
    "import matplotlib.pyplot as plt\n",
    "import itertools\n",
    "from sklearn.metrics import confusion_matrix, accuracy_score, precision_score, recall_score, f1_score\n"
=======
    "import os\n",
    "import numpy as np\n",
    "from tensorflow.keras.preprocessing.image import ImageDataGenerator\n",
    "from tensorflow.keras import layers, models\n",
    "import matplotlib.pyplot as plt\n",
    "import numpy as np\n",
    "from sklearn.model_selection import train_test_split\n",
    "from tensorflow import keras"
>>>>>>> 9447f534c6b3b5767b17027bb09fb53fb2a894a9
   ]
  },
  {
   "cell_type": "code",
   "execution_count": 2,
   "metadata": {
    "executionInfo": {
     "elapsed": 3702,
     "status": "ok",
     "timestamp": 1610791195920,
     "user": {
      "displayName": "sathish kumar",
      "photoUrl": "",
      "userId": "09811313852492528034"
     },
     "user_tz": -330
    },
    "id": "SPWeFH5EGB0n"
   },
   "outputs": [],
   "source": [
<<<<<<< HEAD
    "# Define data directories\n",
    "train_dir = 'D:/Lung Cancer Detection Using CNN/JPDL13-Lung Cancer Detection Using CNN/SOURCE CODE/CT lung cancer/model/train'\n",
    "test_dir = 'D:/Lung Cancer Detection Using CNN/JPDL13-Lung Cancer Detection Using CNN/SOURCE CODE/CT lung cancer/model/test'"
=======
    "train_dir='D:/Lung Cancer Detection Using CNN/JPDL13-Lung Cancer Detection Using CNN/SOURCE CODE/CT lung cancer/model/train' # change the path \n",
    "test_dir='D:/Lung Cancer Detection Using CNN/JPDL13-Lung Cancer Detection Using CNN/SOURCE CODE/CT lung cancer/model/test'\n"
>>>>>>> 9447f534c6b3b5767b17027bb09fb53fb2a894a9
   ]
  },
  {
   "cell_type": "code",
<<<<<<< HEAD
   "execution_count": 3,
   "metadata": {},
   "outputs": [],
   "source": [
    "# Define image dimensions and other parameters\n",
    "img_height = 224\n",
    "img_width = 224\n",
    "batch_size = 32\n",
    "epochs = 5"
   ]
  },
  {
   "cell_type": "code",
   "execution_count": 4,
   "metadata": {},
   "outputs": [
    {
     "name": "stdout",
     "output_type": "stream",
     "text": [
      "Found 364 images belonging to 2 classes.\n",
      "Found 190 images belonging to 2 classes.\n"
     ]
    }
   ],
   "source": [
    "# Data generators\n",
    "train_image_generator = tf.keras.preprocessing.image.ImageDataGenerator(rescale=1. / 255)\n",
    "train_data_gen = train_image_generator.flow_from_directory(\n",
    "    batch_size=batch_size,\n",
    "    directory=train_dir,\n",
    "    shuffle=True,\n",
    "    target_size=(img_height, img_width),\n",
    "    class_mode='categorical')\n",
    "val_image_generator = tf.keras.preprocessing.image.ImageDataGenerator(rescale=1. / 255)\n",
    "val_data_gen = val_image_generator.flow_from_directory(\n",
    "    batch_size=batch_size,\n",
    "    directory=test_dir,\n",
    "    shuffle=True,\n",
    "    target_size=(img_height, img_width),\n",
    "    class_mode='categorical')"
   ]
  },
  {
   "cell_type": "code",
   "execution_count": 5,
=======
   "execution_count": 6,
>>>>>>> 9447f534c6b3b5767b17027bb09fb53fb2a894a9
   "metadata": {
    "executionInfo": {
     "elapsed": 3489,
     "status": "ok",
     "timestamp": 1610791195921,
     "user": {
      "displayName": "sathish kumar",
      "photoUrl": "",
      "userId": "09811313852492528034"
     },
     "user_tz": -330
    },
    "id": "9h-qH8S-GB0p"
   },
<<<<<<< HEAD
=======
   "outputs": [],
   "source": [
    "batch_size = 1\n",
    "epochs = 5\n",
    "img_height = 224\n",
    "img_width = 224"
   ]
  },
  {
   "cell_type": "code",
   "execution_count": 7,
   "metadata": {
    "colab": {
     "base_uri": "https://localhost:8080/"
    },
    "executionInfo": {
     "elapsed": 39745,
     "status": "ok",
     "timestamp": 1610791232328,
     "user": {
      "displayName": "sathish kumar",
      "photoUrl": "",
      "userId": "09811313852492528034"
     },
     "user_tz": -330
    },
    "id": "esAOf5LfGB0p",
    "outputId": "9234bb8c-dda3-4b34-b445-09187ea4337b"
   },
   "outputs": [
    {
     "name": "stdout",
     "output_type": "stream",
     "text": [
      "Found 364 images belonging to 2 classes.\n"
     ]
    }
   ],
   "source": [
    "train_image_generator = ImageDataGenerator(rescale=1./255)  \n",
    "train_data_gen = train_image_generator.flow_from_directory(batch_size=batch_size,directory=train_dir,shuffle=True,target_size=(img_height, img_width),class_mode='categorical')"
   ]
  },
  {
   "cell_type": "code",
   "execution_count": 8,
   "metadata": {
    "colab": {
     "base_uri": "https://localhost:8080/"
    },
    "executionInfo": {
     "elapsed": 47836,
     "status": "ok",
     "timestamp": 1610791240619,
     "user": {
      "displayName": "sathish kumar",
      "photoUrl": "",
      "userId": "09811313852492528034"
     },
     "user_tz": -330
    },
    "id": "7HTI_-XaGB0s",
    "outputId": "040eb250-e8d5-4bdd-c603-6c6465ddbba2"
   },
   "outputs": [
    {
     "name": "stdout",
     "output_type": "stream",
     "text": [
      "Found 190 images belonging to 2 classes.\n"
     ]
    }
   ],
   "source": [
    "val_image_generator = ImageDataGenerator(rescale=1./255)  \n",
    "val_data_gen = val_image_generator .flow_from_directory(batch_size=batch_size,directory=test_dir,shuffle=True,target_size=(img_height, img_width),class_mode='categorical')"
   ]
  },
  {
   "cell_type": "code",
   "execution_count": 27,
   "metadata": {
    "executionInfo": {
     "elapsed": 47667,
     "status": "ok",
     "timestamp": 1610791240624,
     "user": {
      "displayName": "sathish kumar",
      "photoUrl": "",
      "userId": "09811313852492528034"
     },
     "user_tz": -330
    },
    "id": "-h4l7WpkGB0t"
   },
   "outputs": [
    {
     "ename": "ImportError",
     "evalue": "cannot import name 'ImageDataGenerator' from 'keras.preprocessing.image' (C:\\Users\\surya\\anaconda3\\Lib\\site-packages\\keras\\preprocessing\\image\\__init__.py)",
     "output_type": "error",
     "traceback": [
      "\u001b[1;31m---------------------------------------------------------------------------\u001b[0m",
      "\u001b[1;31mImportError\u001b[0m                               Traceback (most recent call last)",
      "Cell \u001b[1;32mIn[27], line 13\u001b[0m\n\u001b[0;32m     11\u001b[0m \u001b[38;5;28;01mfrom\u001b[39;00m \u001b[38;5;21;01mkeras\u001b[39;00m\u001b[38;5;21;01m.\u001b[39;00m\u001b[38;5;21;01mlayers\u001b[39;00m \u001b[38;5;28;01mimport\u001b[39;00m Dense,Dropout,Flatten\n\u001b[0;32m     12\u001b[0m \u001b[38;5;28;01mfrom\u001b[39;00m \u001b[38;5;21;01mkeras\u001b[39;00m\u001b[38;5;21;01m.\u001b[39;00m\u001b[38;5;21;01mlayers\u001b[39;00m \u001b[38;5;28;01mimport\u001b[39;00m Conv2D,MaxPooling2D,Activation,AveragePooling2D,BatchNormalization\n\u001b[1;32m---> 13\u001b[0m \u001b[38;5;28;01mfrom\u001b[39;00m \u001b[38;5;21;01mkeras\u001b[39;00m\u001b[38;5;21;01m.\u001b[39;00m\u001b[38;5;21;01mpreprocessing\u001b[39;00m\u001b[38;5;21;01m.\u001b[39;00m\u001b[38;5;21;01mimage\u001b[39;00m \u001b[38;5;28;01mimport\u001b[39;00m ImageDataGenerator\n",
      "\u001b[1;31mImportError\u001b[0m: cannot import name 'ImageDataGenerator' from 'keras.preprocessing.image' (C:\\Users\\surya\\anaconda3\\Lib\\site-packages\\keras\\preprocessing\\image\\__init__.py)"
     ]
    }
   ],
   "source": [
    "import warnings\n",
    "import os\n",
    "import glob\n",
    "import matplotlib.pyplot as plt\n",
    "\n",
    "# Import Keras\n",
    "import keras\n",
    "from keras.models import Sequential\n",
    "from keras.layers import Dense,Dropout,Flatten\n",
    "from keras.layers import Conv2D,MaxPooling2D,Activation,AveragePooling2D,BatchNormalization\n",
    "from keras.preprocessing.image import ImageDataGenerator"
   ]
  },
  {
   "cell_type": "code",
   "execution_count": 28,
   "metadata": {
    "executionInfo": {
     "elapsed": 47463,
     "status": "ok",
     "timestamp": 1610791240626,
     "user": {
      "displayName": "sathish kumar",
      "photoUrl": "",
      "userId": "09811313852492528034"
     },
     "user_tz": -330
    },
    "id": "4qVhmZxwGB0t"
   },
   "outputs": [],
   "source": [
    "img_width,img_height =224,224\n",
    "input_shape=(img_width,img_height,3)"
   ]
  },
  {
   "cell_type": "code",
   "execution_count": 12,
   "metadata": {
    "colab": {
     "base_uri": "https://localhost:8080/"
    },
    "executionInfo": {
     "elapsed": 50123,
     "status": "ok",
     "timestamp": 1610791243514,
     "user": {
      "displayName": "sathish kumar",
      "photoUrl": "",
      "userId": "09811313852492528034"
     },
     "user_tz": -330
    },
    "id": "ysGVNMvEGB0u",
    "outputId": "07f1ce30-acfd-404b-a7c5-38c8ab3c87f9"
   },
>>>>>>> 9447f534c6b3b5767b17027bb09fb53fb2a894a9
   "outputs": [
    {
     "name": "stderr",
     "output_type": "stream",
     "text": [
<<<<<<< HEAD
      "C:\\Users\\surya\\anaconda3\\Lib\\site-packages\\keras\\src\\layers\\convolutional\\base_conv.py:107: UserWarning: Do not pass an `input_shape`/`input_dim` argument to a layer. When using Sequential models, prefer using an `Input(shape)` object as the first layer in the model instead.\n",
      "  super().__init__(activity_regularizer=activity_regularizer, **kwargs)\n"
     ]
    },
    {
     "data": {
      "text/html": [
       "<pre style=\"white-space:pre;overflow-x:auto;line-height:normal;font-family:Menlo,'DejaVu Sans Mono',consolas,'Courier New',monospace\"><span style=\"font-weight: bold\">Model: \"sequential\"</span>\n",
       "</pre>\n"
      ],
      "text/plain": [
       "\u001b[1mModel: \"sequential\"\u001b[0m\n"
=======
      "C:\\Users\\surya\\anaconda3\\Lib\\site-packages\\keras\\src\\layers\\convolutional\\base_conv.py:99: UserWarning: Do not pass an `input_shape`/`input_dim` argument to a layer. When using Sequential models, prefer using an `Input(shape)` object as the first layer in the model instead.\n",
      "  super().__init__(\n"
     ]
    }
   ],
   "source": [
    "model = Sequential()\n",
    "model.add(Conv2D(32, (5, 5),input_shape=input_shape,activation='relu'))\n",
    "model.add(MaxPooling2D(pool_size=(3, 3)))\n",
    "model.add(Conv2D(32, (3, 3),activation='relu'))\n",
    "model.add(MaxPooling2D(pool_size=(2, 2)))\n",
    "model.add(Conv2D(64, (3, 3),activation='relu'))\n",
    "model.add(MaxPooling2D(pool_size=(2, 2)))   \n",
    "model.add(Flatten())\n",
    "model.add(Dense(512,activation='relu'))\n",
    "model.add(Dropout(0.25))\n",
    "model.add(Dense(128,activation='relu'))          \n",
    "model.add(Dense(2,activation='softmax'))"
   ]
  },
  {
   "cell_type": "code",
   "execution_count": 13,
   "metadata": {
    "executionInfo": {
     "elapsed": 49859,
     "status": "ok",
     "timestamp": 1610791243516,
     "user": {
      "displayName": "sathish kumar",
      "photoUrl": "",
      "userId": "09811313852492528034"
     },
     "user_tz": -330
    },
    "id": "fPFSImqHGB0u"
   },
   "outputs": [
    {
     "data": {
      "text/html": [
       "<pre style=\"white-space:pre;overflow-x:auto;line-height:normal;font-family:Menlo,'DejaVu Sans Mono',consolas,'Courier New',monospace\"><span style=\"font-weight: bold\">Model: \"sequential_1\"</span>\n",
       "</pre>\n"
      ],
      "text/plain": [
       "\u001b[1mModel: \"sequential_1\"\u001b[0m\n"
>>>>>>> 9447f534c6b3b5767b17027bb09fb53fb2a894a9
      ]
     },
     "metadata": {},
     "output_type": "display_data"
    },
    {
     "data": {
      "text/html": [
       "<pre style=\"white-space:pre;overflow-x:auto;line-height:normal;font-family:Menlo,'DejaVu Sans Mono',consolas,'Courier New',monospace\">┏━━━━━━━━━━━━━━━━━━━━━━━━━━━━━━━━━━━━━━┳━━━━━━━━━━━━━━━━━━━━━━━━━━━━━┳━━━━━━━━━━━━━━━━━┓\n",
       "┃<span style=\"font-weight: bold\"> Layer (type)                         </span>┃<span style=\"font-weight: bold\"> Output Shape                </span>┃<span style=\"font-weight: bold\">         Param # </span>┃\n",
       "┡━━━━━━━━━━━━━━━━━━━━━━━━━━━━━━━━━━━━━━╇━━━━━━━━━━━━━━━━━━━━━━━━━━━━━╇━━━━━━━━━━━━━━━━━┩\n",
       "│ conv2d (<span style=\"color: #0087ff; text-decoration-color: #0087ff\">Conv2D</span>)                      │ (<span style=\"color: #00d7ff; text-decoration-color: #00d7ff\">None</span>, <span style=\"color: #00af00; text-decoration-color: #00af00\">220</span>, <span style=\"color: #00af00; text-decoration-color: #00af00\">220</span>, <span style=\"color: #00af00; text-decoration-color: #00af00\">32</span>)        │           <span style=\"color: #00af00; text-decoration-color: #00af00\">2,432</span> │\n",
       "├──────────────────────────────────────┼─────────────────────────────┼─────────────────┤\n",
       "│ max_pooling2d (<span style=\"color: #0087ff; text-decoration-color: #0087ff\">MaxPooling2D</span>)         │ (<span style=\"color: #00d7ff; text-decoration-color: #00d7ff\">None</span>, <span style=\"color: #00af00; text-decoration-color: #00af00\">73</span>, <span style=\"color: #00af00; text-decoration-color: #00af00\">73</span>, <span style=\"color: #00af00; text-decoration-color: #00af00\">32</span>)          │               <span style=\"color: #00af00; text-decoration-color: #00af00\">0</span> │\n",
       "├──────────────────────────────────────┼─────────────────────────────┼─────────────────┤\n",
       "│ conv2d_1 (<span style=\"color: #0087ff; text-decoration-color: #0087ff\">Conv2D</span>)                    │ (<span style=\"color: #00d7ff; text-decoration-color: #00d7ff\">None</span>, <span style=\"color: #00af00; text-decoration-color: #00af00\">71</span>, <span style=\"color: #00af00; text-decoration-color: #00af00\">71</span>, <span style=\"color: #00af00; text-decoration-color: #00af00\">32</span>)          │           <span style=\"color: #00af00; text-decoration-color: #00af00\">9,248</span> │\n",
       "├──────────────────────────────────────┼─────────────────────────────┼─────────────────┤\n",
       "│ max_pooling2d_1 (<span style=\"color: #0087ff; text-decoration-color: #0087ff\">MaxPooling2D</span>)       │ (<span style=\"color: #00d7ff; text-decoration-color: #00d7ff\">None</span>, <span style=\"color: #00af00; text-decoration-color: #00af00\">35</span>, <span style=\"color: #00af00; text-decoration-color: #00af00\">35</span>, <span style=\"color: #00af00; text-decoration-color: #00af00\">32</span>)          │               <span style=\"color: #00af00; text-decoration-color: #00af00\">0</span> │\n",
       "├──────────────────────────────────────┼─────────────────────────────┼─────────────────┤\n",
       "│ conv2d_2 (<span style=\"color: #0087ff; text-decoration-color: #0087ff\">Conv2D</span>)                    │ (<span style=\"color: #00d7ff; text-decoration-color: #00d7ff\">None</span>, <span style=\"color: #00af00; text-decoration-color: #00af00\">33</span>, <span style=\"color: #00af00; text-decoration-color: #00af00\">33</span>, <span style=\"color: #00af00; text-decoration-color: #00af00\">64</span>)          │          <span style=\"color: #00af00; text-decoration-color: #00af00\">18,496</span> │\n",
       "├──────────────────────────────────────┼─────────────────────────────┼─────────────────┤\n",
       "│ max_pooling2d_2 (<span style=\"color: #0087ff; text-decoration-color: #0087ff\">MaxPooling2D</span>)       │ (<span style=\"color: #00d7ff; text-decoration-color: #00d7ff\">None</span>, <span style=\"color: #00af00; text-decoration-color: #00af00\">16</span>, <span style=\"color: #00af00; text-decoration-color: #00af00\">16</span>, <span style=\"color: #00af00; text-decoration-color: #00af00\">64</span>)          │               <span style=\"color: #00af00; text-decoration-color: #00af00\">0</span> │\n",
       "├──────────────────────────────────────┼─────────────────────────────┼─────────────────┤\n",
       "│ flatten (<span style=\"color: #0087ff; text-decoration-color: #0087ff\">Flatten</span>)                    │ (<span style=\"color: #00d7ff; text-decoration-color: #00d7ff\">None</span>, <span style=\"color: #00af00; text-decoration-color: #00af00\">16384</span>)               │               <span style=\"color: #00af00; text-decoration-color: #00af00\">0</span> │\n",
       "├──────────────────────────────────────┼─────────────────────────────┼─────────────────┤\n",
       "│ dense (<span style=\"color: #0087ff; text-decoration-color: #0087ff\">Dense</span>)                        │ (<span style=\"color: #00d7ff; text-decoration-color: #00d7ff\">None</span>, <span style=\"color: #00af00; text-decoration-color: #00af00\">512</span>)                 │       <span style=\"color: #00af00; text-decoration-color: #00af00\">8,389,120</span> │\n",
       "├──────────────────────────────────────┼─────────────────────────────┼─────────────────┤\n",
       "│ dropout (<span style=\"color: #0087ff; text-decoration-color: #0087ff\">Dropout</span>)                    │ (<span style=\"color: #00d7ff; text-decoration-color: #00d7ff\">None</span>, <span style=\"color: #00af00; text-decoration-color: #00af00\">512</span>)                 │               <span style=\"color: #00af00; text-decoration-color: #00af00\">0</span> │\n",
       "├──────────────────────────────────────┼─────────────────────────────┼─────────────────┤\n",
       "│ dense_1 (<span style=\"color: #0087ff; text-decoration-color: #0087ff\">Dense</span>)                      │ (<span style=\"color: #00d7ff; text-decoration-color: #00d7ff\">None</span>, <span style=\"color: #00af00; text-decoration-color: #00af00\">128</span>)                 │          <span style=\"color: #00af00; text-decoration-color: #00af00\">65,664</span> │\n",
       "├──────────────────────────────────────┼─────────────────────────────┼─────────────────┤\n",
       "│ dense_2 (<span style=\"color: #0087ff; text-decoration-color: #0087ff\">Dense</span>)                      │ (<span style=\"color: #00d7ff; text-decoration-color: #00d7ff\">None</span>, <span style=\"color: #00af00; text-decoration-color: #00af00\">2</span>)                   │             <span style=\"color: #00af00; text-decoration-color: #00af00\">258</span> │\n",
       "└──────────────────────────────────────┴─────────────────────────────┴─────────────────┘\n",
       "</pre>\n"
      ],
      "text/plain": [
       "┏━━━━━━━━━━━━━━━━━━━━━━━━━━━━━━━━━━━━━━┳━━━━━━━━━━━━━━━━━━━━━━━━━━━━━┳━━━━━━━━━━━━━━━━━┓\n",
       "┃\u001b[1m \u001b[0m\u001b[1mLayer (type)                        \u001b[0m\u001b[1m \u001b[0m┃\u001b[1m \u001b[0m\u001b[1mOutput Shape               \u001b[0m\u001b[1m \u001b[0m┃\u001b[1m \u001b[0m\u001b[1m        Param #\u001b[0m\u001b[1m \u001b[0m┃\n",
       "┡━━━━━━━━━━━━━━━━━━━━━━━━━━━━━━━━━━━━━━╇━━━━━━━━━━━━━━━━━━━━━━━━━━━━━╇━━━━━━━━━━━━━━━━━┩\n",
       "│ conv2d (\u001b[38;5;33mConv2D\u001b[0m)                      │ (\u001b[38;5;45mNone\u001b[0m, \u001b[38;5;34m220\u001b[0m, \u001b[38;5;34m220\u001b[0m, \u001b[38;5;34m32\u001b[0m)        │           \u001b[38;5;34m2,432\u001b[0m │\n",
       "├──────────────────────────────────────┼─────────────────────────────┼─────────────────┤\n",
       "│ max_pooling2d (\u001b[38;5;33mMaxPooling2D\u001b[0m)         │ (\u001b[38;5;45mNone\u001b[0m, \u001b[38;5;34m73\u001b[0m, \u001b[38;5;34m73\u001b[0m, \u001b[38;5;34m32\u001b[0m)          │               \u001b[38;5;34m0\u001b[0m │\n",
       "├──────────────────────────────────────┼─────────────────────────────┼─────────────────┤\n",
       "│ conv2d_1 (\u001b[38;5;33mConv2D\u001b[0m)                    │ (\u001b[38;5;45mNone\u001b[0m, \u001b[38;5;34m71\u001b[0m, \u001b[38;5;34m71\u001b[0m, \u001b[38;5;34m32\u001b[0m)          │           \u001b[38;5;34m9,248\u001b[0m │\n",
       "├──────────────────────────────────────┼─────────────────────────────┼─────────────────┤\n",
       "│ max_pooling2d_1 (\u001b[38;5;33mMaxPooling2D\u001b[0m)       │ (\u001b[38;5;45mNone\u001b[0m, \u001b[38;5;34m35\u001b[0m, \u001b[38;5;34m35\u001b[0m, \u001b[38;5;34m32\u001b[0m)          │               \u001b[38;5;34m0\u001b[0m │\n",
       "├──────────────────────────────────────┼─────────────────────────────┼─────────────────┤\n",
       "│ conv2d_2 (\u001b[38;5;33mConv2D\u001b[0m)                    │ (\u001b[38;5;45mNone\u001b[0m, \u001b[38;5;34m33\u001b[0m, \u001b[38;5;34m33\u001b[0m, \u001b[38;5;34m64\u001b[0m)          │          \u001b[38;5;34m18,496\u001b[0m │\n",
       "├──────────────────────────────────────┼─────────────────────────────┼─────────────────┤\n",
       "│ max_pooling2d_2 (\u001b[38;5;33mMaxPooling2D\u001b[0m)       │ (\u001b[38;5;45mNone\u001b[0m, \u001b[38;5;34m16\u001b[0m, \u001b[38;5;34m16\u001b[0m, \u001b[38;5;34m64\u001b[0m)          │               \u001b[38;5;34m0\u001b[0m │\n",
       "├──────────────────────────────────────┼─────────────────────────────┼─────────────────┤\n",
       "│ flatten (\u001b[38;5;33mFlatten\u001b[0m)                    │ (\u001b[38;5;45mNone\u001b[0m, \u001b[38;5;34m16384\u001b[0m)               │               \u001b[38;5;34m0\u001b[0m │\n",
       "├──────────────────────────────────────┼─────────────────────────────┼─────────────────┤\n",
       "│ dense (\u001b[38;5;33mDense\u001b[0m)                        │ (\u001b[38;5;45mNone\u001b[0m, \u001b[38;5;34m512\u001b[0m)                 │       \u001b[38;5;34m8,389,120\u001b[0m │\n",
       "├──────────────────────────────────────┼─────────────────────────────┼─────────────────┤\n",
       "│ dropout (\u001b[38;5;33mDropout\u001b[0m)                    │ (\u001b[38;5;45mNone\u001b[0m, \u001b[38;5;34m512\u001b[0m)                 │               \u001b[38;5;34m0\u001b[0m │\n",
       "├──────────────────────────────────────┼─────────────────────────────┼─────────────────┤\n",
       "│ dense_1 (\u001b[38;5;33mDense\u001b[0m)                      │ (\u001b[38;5;45mNone\u001b[0m, \u001b[38;5;34m128\u001b[0m)                 │          \u001b[38;5;34m65,664\u001b[0m │\n",
       "├──────────────────────────────────────┼─────────────────────────────┼─────────────────┤\n",
       "│ dense_2 (\u001b[38;5;33mDense\u001b[0m)                      │ (\u001b[38;5;45mNone\u001b[0m, \u001b[38;5;34m2\u001b[0m)                   │             \u001b[38;5;34m258\u001b[0m │\n",
       "└──────────────────────────────────────┴─────────────────────────────┴─────────────────┘\n"
      ]
     },
     "metadata": {},
     "output_type": "display_data"
    },
    {
     "data": {
      "text/html": [
       "<pre style=\"white-space:pre;overflow-x:auto;line-height:normal;font-family:Menlo,'DejaVu Sans Mono',consolas,'Courier New',monospace\"><span style=\"font-weight: bold\"> Total params: </span><span style=\"color: #00af00; text-decoration-color: #00af00\">8,485,218</span> (32.37 MB)\n",
       "</pre>\n"
      ],
      "text/plain": [
       "\u001b[1m Total params: \u001b[0m\u001b[38;5;34m8,485,218\u001b[0m (32.37 MB)\n"
      ]
     },
     "metadata": {},
     "output_type": "display_data"
    },
    {
     "data": {
      "text/html": [
       "<pre style=\"white-space:pre;overflow-x:auto;line-height:normal;font-family:Menlo,'DejaVu Sans Mono',consolas,'Courier New',monospace\"><span style=\"font-weight: bold\"> Trainable params: </span><span style=\"color: #00af00; text-decoration-color: #00af00\">8,485,218</span> (32.37 MB)\n",
       "</pre>\n"
      ],
      "text/plain": [
       "\u001b[1m Trainable params: \u001b[0m\u001b[38;5;34m8,485,218\u001b[0m (32.37 MB)\n"
      ]
     },
     "metadata": {},
     "output_type": "display_data"
    },
    {
     "data": {
      "text/html": [
       "<pre style=\"white-space:pre;overflow-x:auto;line-height:normal;font-family:Menlo,'DejaVu Sans Mono',consolas,'Courier New',monospace\"><span style=\"font-weight: bold\"> Non-trainable params: </span><span style=\"color: #00af00; text-decoration-color: #00af00\">0</span> (0.00 B)\n",
       "</pre>\n"
      ],
      "text/plain": [
       "\u001b[1m Non-trainable params: \u001b[0m\u001b[38;5;34m0\u001b[0m (0.00 B)\n"
      ]
     },
     "metadata": {},
     "output_type": "display_data"
    }
   ],
   "source": [
<<<<<<< HEAD
    "# Model architecture\n",
    "model = tf.keras.models.Sequential([\n",
    "    tf.keras.layers.Conv2D(32, (5, 5), input_shape=(img_height, img_width, 3), activation='relu'),\n",
    "    tf.keras.layers.MaxPooling2D(pool_size=(3, 3)),\n",
    "    tf.keras.layers.Conv2D(32, (3, 3), activation='relu'),\n",
    "    tf.keras.layers.MaxPooling2D(pool_size=(2, 2)),\n",
    "    tf.keras.layers.Conv2D(64, (3, 3), activation='relu'),\n",
    "    tf.keras.layers.MaxPooling2D(pool_size=(2, 2)),\n",
    "    tf.keras.layers.Flatten(),\n",
    "    tf.keras.layers.Dense(512, activation='relu'),\n",
    "    tf.keras.layers.Dropout(0.25),\n",
    "    tf.keras.layers.Dense(128, activation='relu'),\n",
    "    tf.keras.layers.Dense(2, activation='softmax')\n",
    "])\n",
    "\n",
    "model.summary()\n"
=======
    "model.summary()"
>>>>>>> 9447f534c6b3b5767b17027bb09fb53fb2a894a9
   ]
  },
  {
   "cell_type": "code",
<<<<<<< HEAD
   "execution_count": 6,
   "metadata": {},
=======
   "execution_count": 14,
   "metadata": {
    "colab": {
     "base_uri": "https://localhost:8080/"
    },
    "executionInfo": {
     "elapsed": 49410,
     "status": "ok",
     "timestamp": 1610791243517,
     "user": {
      "displayName": "sathish kumar",
      "photoUrl": "",
      "userId": "09811313852492528034"
     },
     "user_tz": -330
    },
    "id": "MIX3MsZgGB0v",
    "outputId": "a6163d8e-0ad6-4049-9d97-45c4beafeb17"
   },
   "outputs": [],
   "source": [
    "model.compile(optimizer='adam',\n",
    "loss='categorical_crossentropy',\n",
    "metrics=['accuracy'])"
   ]
  },
  {
   "cell_type": "code",
   "execution_count": 15,
   "metadata": {
    "executionInfo": {
     "elapsed": 50040,
     "status": "ok",
     "timestamp": 1610791244482,
     "user": {
      "displayName": "sathish kumar",
      "photoUrl": "",
      "userId": "09811313852492528034"
     },
     "user_tz": -330
    },
    "id": "_n0Anzw2GB0w"
   },
>>>>>>> 9447f534c6b3b5767b17027bb09fb53fb2a894a9
   "outputs": [
    {
     "name": "stdout",
     "output_type": "stream",
     "text": [
<<<<<<< HEAD
      "Epoch 1/5\n"
=======
      "Epoch 1/2\n"
>>>>>>> 9447f534c6b3b5767b17027bb09fb53fb2a894a9
     ]
    },
    {
     "name": "stderr",
     "output_type": "stream",
     "text": [
<<<<<<< HEAD
      "C:\\Users\\surya\\anaconda3\\Lib\\site-packages\\keras\\src\\trainers\\data_adapters\\py_dataset_adapter.py:121: UserWarning: Your `PyDataset` class should call `super().__init__(**kwargs)` in its constructor. `**kwargs` can include `workers`, `use_multiprocessing`, `max_queue_size`. Do not pass these arguments to `fit()`, as they will be ignored.\n",
=======
      "C:\\Users\\surya\\anaconda3\\Lib\\site-packages\\keras\\src\\trainers\\data_adapters\\py_dataset_adapter.py:120: UserWarning: Your `PyDataset` class should call `super().__init__(**kwargs)` in its constructor. `**kwargs` can include `workers`, `use_multiprocessing`, `max_queue_size`. Do not pass these arguments to `fit()`, as they will be ignored.\n",
>>>>>>> 9447f534c6b3b5767b17027bb09fb53fb2a894a9
      "  self._warn_if_super_not_called()\n"
     ]
    },
    {
     "name": "stdout",
     "output_type": "stream",
     "text": [
<<<<<<< HEAD
      "\u001b[1m12/12\u001b[0m \u001b[32m━━━━━━━━━━━━━━━━━━━━\u001b[0m\u001b[37m\u001b[0m \u001b[1m6s\u001b[0m 302ms/step - accuracy: 0.6799 - loss: 0.4993 - val_accuracy: 1.0000 - val_loss: 0.0034\n",
      "Epoch 2/5\n",
      "\u001b[1m12/12\u001b[0m \u001b[32m━━━━━━━━━━━━━━━━━━━━\u001b[0m\u001b[37m\u001b[0m \u001b[1m4s\u001b[0m 274ms/step - accuracy: 0.9982 - loss: 0.0108 - val_accuracy: 1.0000 - val_loss: 0.0016\n",
      "Epoch 3/5\n",
      "\u001b[1m12/12\u001b[0m \u001b[32m━━━━━━━━━━━━━━━━━━━━\u001b[0m\u001b[37m\u001b[0m \u001b[1m4s\u001b[0m 270ms/step - accuracy: 0.9996 - loss: 0.0059 - val_accuracy: 1.0000 - val_loss: 3.2525e-06\n",
      "Epoch 4/5\n",
      "\u001b[1m12/12\u001b[0m \u001b[32m━━━━━━━━━━━━━━━━━━━━\u001b[0m\u001b[37m\u001b[0m \u001b[1m4s\u001b[0m 251ms/step - accuracy: 0.9922 - loss: 0.0336 - val_accuracy: 1.0000 - val_loss: 6.2230e-04\n",
      "Epoch 5/5\n",
      "\u001b[1m12/12\u001b[0m \u001b[32m━━━━━━━━━━━━━━━━━━━━\u001b[0m\u001b[37m\u001b[0m \u001b[1m4s\u001b[0m 267ms/step - accuracy: 1.0000 - loss: 0.0010 - val_accuracy: 1.0000 - val_loss: 2.9682e-06\n"
=======
      "\u001b[1m364/364\u001b[0m \u001b[32m━━━━━━━━━━━━━━━━━━━━\u001b[0m\u001b[37m\u001b[0m \u001b[1m25s\u001b[0m 58ms/step - accuracy: 0.8378 - loss: 0.7159 - val_accuracy: 1.0000 - val_loss: 1.2487e-04\n",
      "Epoch 2/2\n",
      "\u001b[1m364/364\u001b[0m \u001b[32m━━━━━━━━━━━━━━━━━━━━\u001b[0m\u001b[37m\u001b[0m \u001b[1m23s\u001b[0m 63ms/step - accuracy: 0.9940 - loss: 0.1388 - val_accuracy: 0.9895 - val_loss: 0.0225\n"
>>>>>>> 9447f534c6b3b5767b17027bb09fb53fb2a894a9
     ]
    }
   ],
   "source": [
<<<<<<< HEAD
    "# Compile the model\n",
    "model.compile(optimizer='adam',\n",
    "              loss='categorical_crossentropy',\n",
    "              metrics=['accuracy'])\n",
    "\n",
    "# Train the model\n",
    "history = model.fit(train_data_gen,\n",
    "                    epochs=epochs,\n",
    "                    validation_data=val_data_gen)"
=======
    "history = model.fit(train_data_gen, epochs=2,\n",
    "validation_data= val_data_gen,)"
>>>>>>> 9447f534c6b3b5767b17027bb09fb53fb2a894a9
   ]
  },
  {
   "cell_type": "code",
<<<<<<< HEAD
   "execution_count": 7,
   "metadata": {},
   "outputs": [
    {
     "name": "stdout",
     "output_type": "stream",
     "text": [
      "\u001b[1m6/6\u001b[0m \u001b[32m━━━━━━━━━━━━━━━━━━━━\u001b[0m\u001b[37m\u001b[0m \u001b[1m1s\u001b[0m 113ms/step\n"
=======
   "execution_count": 29,
   "metadata": {},
   "outputs": [
    {
     "ename": "AttributeError",
     "evalue": "'DirectoryIterator' object has no attribute 'next'",
     "output_type": "error",
     "traceback": [
      "\u001b[1;31m---------------------------------------------------------------------------\u001b[0m",
      "\u001b[1;31mAttributeError\u001b[0m                            Traceback (most recent call last)",
      "Cell \u001b[1;32mIn[29], line 1\u001b[0m\n\u001b[1;32m----> 1\u001b[0m y\u001b[38;5;241m=\u001b[39mnp\u001b[38;5;241m.\u001b[39mconcatenate([val_data_gen\u001b[38;5;241m.\u001b[39mnext()[\u001b[38;5;241m1\u001b[39m] \u001b[38;5;28;01mfor\u001b[39;00m i \u001b[38;5;129;01min\u001b[39;00m \u001b[38;5;28mrange\u001b[39m(val_data_gen\u001b[38;5;241m.\u001b[39m\u001b[38;5;21m__len__\u001b[39m())])\n\u001b[0;32m      2\u001b[0m true_labels\u001b[38;5;241m=\u001b[39mnp\u001b[38;5;241m.\u001b[39margmax(y, axis\u001b[38;5;241m=\u001b[39m\u001b[38;5;241m-\u001b[39m\u001b[38;5;241m1\u001b[39m)\n\u001b[0;32m      3\u001b[0m prediction\u001b[38;5;241m=\u001b[39m model\u001b[38;5;241m.\u001b[39mpredict(val_data_gen, verbose\u001b[38;5;241m=\u001b[39m\u001b[38;5;241m2\u001b[39m)\n",
      "Cell \u001b[1;32mIn[29], line 1\u001b[0m, in \u001b[0;36m<listcomp>\u001b[1;34m(.0)\u001b[0m\n\u001b[1;32m----> 1\u001b[0m y\u001b[38;5;241m=\u001b[39mnp\u001b[38;5;241m.\u001b[39mconcatenate([val_data_gen\u001b[38;5;241m.\u001b[39mnext()[\u001b[38;5;241m1\u001b[39m] \u001b[38;5;28;01mfor\u001b[39;00m i \u001b[38;5;129;01min\u001b[39;00m \u001b[38;5;28mrange\u001b[39m(val_data_gen\u001b[38;5;241m.\u001b[39m\u001b[38;5;21m__len__\u001b[39m())])\n\u001b[0;32m      2\u001b[0m true_labels\u001b[38;5;241m=\u001b[39mnp\u001b[38;5;241m.\u001b[39margmax(y, axis\u001b[38;5;241m=\u001b[39m\u001b[38;5;241m-\u001b[39m\u001b[38;5;241m1\u001b[39m)\n\u001b[0;32m      3\u001b[0m prediction\u001b[38;5;241m=\u001b[39m model\u001b[38;5;241m.\u001b[39mpredict(val_data_gen, verbose\u001b[38;5;241m=\u001b[39m\u001b[38;5;241m2\u001b[39m)\n",
      "\u001b[1;31mAttributeError\u001b[0m: 'DirectoryIterator' object has no attribute 'next'"
>>>>>>> 9447f534c6b3b5767b17027bb09fb53fb2a894a9
     ]
    }
   ],
   "source": [
<<<<<<< HEAD
    "# Evaluate the model\n",
    "y_true = val_data_gen.classes\n",
    "y_pred = np.argmax(model.predict(val_data_gen), axis=-1)"
=======
    "y=np.concatenate([val_data_gen.next()[1] for i in range(val_data_gen.__len__())])\n",
    "true_labels=np.argmax(y, axis=-1)\n",
    "prediction= model.predict(val_data_gen, verbose=2)\n",
    "prediction=np.argmax(prediction, axis=-1)"
>>>>>>> 9447f534c6b3b5767b17027bb09fb53fb2a894a9
   ]
  },
  {
   "cell_type": "code",
<<<<<<< HEAD
   "execution_count": 8,
   "metadata": {},
   "outputs": [],
   "source": [
    "# Calculate evaluation metrics\n",
    "accuracy = accuracy_score(y_true, y_pred)\n",
    "precision = precision_score(y_true, y_pred, average='macro')\n",
    "recall = recall_score(y_true, y_pred, average='macro')\n",
    "f1 = f1_score(y_true, y_pred, average='macro')"
   ]
  },
  {
   "cell_type": "code",
   "execution_count": 9,
   "metadata": {},
   "outputs": [
    {
     "name": "stdout",
     "output_type": "stream",
     "text": [
      "Accuracy: 0.5368421052631579\n",
      "Precision: 0.5023809523809524\n",
      "Recall: 0.5023809523809524\n",
      "F1 Score: 0.5023809523809524\n"
     ]
    }
   ],
   "source": [
    "print('Accuracy:', accuracy)\n",
    "print('Precision:', precision)\n",
    "print('Recall:', recall)\n",
    "print('F1 Score:', f1)"
   ]
  },
  {
   "cell_type": "code",
   "execution_count": 10,
   "metadata": {},
   "outputs": [
    {
     "name": "stdout",
     "output_type": "stream",
     "text": [
      "Confusion Matrix:\n",
      "[[76 44]\n",
      " [44 26]]\n"
     ]
    }
   ],
   "source": [
    "# Confusion matrix\n",
    "cm = confusion_matrix(y_true, y_pred)\n",
    "print('Confusion Matrix:')\n",
    "print(cm)\n"
   ]
  },
  {
   "cell_type": "code",
   "execution_count": 11,
   "metadata": {},
   "outputs": [
    {
     "data": {
      "image/png": "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",
      "text/plain": [
       "<Figure size 800x600 with 2 Axes>"
      ]
     },
     "metadata": {},
     "output_type": "display_data"
    }
   ],
   "source": [
    "\n",
    "# Plot confusion matrix\n",
    "def plot_confusion_matrix(cm, classes):\n",
    "    plt.imshow(cm, interpolation='nearest', cmap=plt.cm.Blues)\n",
    "    plt.title('Confusion Matrix')\n",
    "    plt.colorbar()\n",
    "    tick_marks = np.arange(len(classes))\n",
    "    plt.xticks(tick_marks, classes)\n",
    "    plt.yticks(tick_marks, classes)\n",
    "\n",
    "    thresh = cm.max() / 2.\n",
    "    for i, j in itertools.product(range(cm.shape[0]), range(cm.shape[1])):\n",
    "        plt.text(j, i, cm[i, j],\n",
    "                 horizontalalignment=\"center\",\n",
    "                 color=\"white\" if cm[i, j] > thresh else \"black\")\n",
    "\n",
    "    plt.tight_layout()\n",
    "    plt.ylabel('True label')\n",
    "    plt.xlabel('Predicted label')\n",
    "\n",
    "\n",
    "plt.figure(figsize=(8, 6))\n",
    "plot_confusion_matrix(cm, classes=['Cancerous', 'Non-Cancerous'])\n",
    "plt.show()"
=======
   "execution_count": 19,
   "metadata": {},
   "outputs": [],
   "source": [
    "def plot_confusion_matrix(cm, classes,\n",
    "                          normalize=False,\n",
    "                          title='Confusion matrix',\n",
    "                          cmap=plt.cm.Blues):\n",
    "    \"\"\"\n",
    "    This function prints and plots the confusion matrix.\n",
    "    Normalization can be applied by setting `normalize=True`.\n",
    "    \"\"\"\n",
    "    plt.imshow(cm, interpolation='nearest', cmap=cmap)\n",
    "    plt.title(title)\n",
    "    plt.colorbar()\n",
    "    tick_marks = np.arange(len(classes))\n",
    "    plt.xticks(tick_marks, classes, rotation=45)\n",
    "    plt.yticks(tick_marks, classes)\n",
    "\n",
    "    if normalize:\n",
    "        cm = cm.astype('float') / cm.sum(axis=1)[:, np.newaxis]\n",
    "        print(\"Normalized confusion matrix\")\n",
    "    else:\n",
    "        print('Confusion matrix, without normalization')\n",
    "\n",
    "    print(cm)\n",
    "\n",
    "    thresh = cm.max() / 2.\n",
    "    for i, j in itertools.product(range(cm.shape[0]), range(cm.shape[1])):\n",
    "        plt.text(j, i, cm[i, j],\n",
    "            horizontalalignment=\"center\",\n",
    "            color=\"white\" if cm[i, j] > thresh else \"black\")\n",
    "\n",
    "    plt.tight_layout()\n",
    "    plt.ylabel('True label')\n",
    "    plt.xlabel('Predicted label')"
>>>>>>> 9447f534c6b3b5767b17027bb09fb53fb2a894a9
   ]
  },
  {
   "cell_type": "code",
<<<<<<< HEAD
   "execution_count": 12,
   "metadata": {},
   "outputs": [
    {
     "name": "stderr",
     "output_type": "stream",
     "text": [
      "WARNING:absl:You are saving your model as an HDF5 file via `model.save()` or `keras.saving.save_model(model)`. This file format is considered legacy. We recommend using instead the native Keras format, e.g. `model.save('my_model.keras')` or `keras.saving.save_model(model, 'my_model.keras')`. \n"
=======
   "execution_count": 20,
   "metadata": {},
   "outputs": [
    {
     "ename": "NameError",
     "evalue": "name 'true_labels' is not defined",
     "output_type": "error",
     "traceback": [
      "\u001b[1;31m---------------------------------------------------------------------------\u001b[0m",
      "\u001b[1;31mNameError\u001b[0m                                 Traceback (most recent call last)",
      "Cell \u001b[1;32mIn[20], line 4\u001b[0m\n\u001b[0;32m      2\u001b[0m \u001b[38;5;28;01mimport\u001b[39;00m \u001b[38;5;21;01mitertools\u001b[39;00m\n\u001b[0;32m      3\u001b[0m \u001b[38;5;28;01mimport\u001b[39;00m \u001b[38;5;21;01mmatplotlib\u001b[39;00m\u001b[38;5;21;01m.\u001b[39;00m\u001b[38;5;21;01mpyplot\u001b[39;00m \u001b[38;5;28;01mas\u001b[39;00m \u001b[38;5;21;01mplt\u001b[39;00m\n\u001b[1;32m----> 4\u001b[0m cm \u001b[38;5;241m=\u001b[39m confusion_matrix(y_true\u001b[38;5;241m=\u001b[39mtrue_labels, y_pred\u001b[38;5;241m=\u001b[39mprediction)\n",
      "\u001b[1;31mNameError\u001b[0m: name 'true_labels' is not defined"
>>>>>>> 9447f534c6b3b5767b17027bb09fb53fb2a894a9
     ]
    }
   ],
   "source": [
<<<<<<< HEAD
    "# Save the model\n",
    "model.save('cancer.h5')\n"
=======
    "from sklearn.metrics import confusion_matrix\n",
    "import itertools\n",
    "import matplotlib.pyplot as plt\n",
    "cm = confusion_matrix(y_true=true_labels, y_pred=prediction)"
   ]
  },
  {
   "cell_type": "code",
   "execution_count": 21,
   "metadata": {},
   "outputs": [],
   "source": [
    "cm_plot_labels = ['Cancerous','non-Cancerous']"
   ]
  },
  {
   "cell_type": "code",
   "execution_count": 17,
   "metadata": {},
   "outputs": [
    {
     "name": "stdout",
     "output_type": "stream",
     "text": [
      "Confusion matrix, without normalization\n",
      "[[238   0]\n",
      " [  1 125]]\n",
      "Accuracy: 0.997\n",
      "Precision: 1.000\n",
      "Recall: 0.997\n",
      "F-Measure: 0.997\n"
     ]
    },
    {
     "data": {
      "image/png": "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\n",
      "text/plain": [
       "<Figure size 432x288 with 2 Axes>"
      ]
     },
     "metadata": {
      "needs_background": "light"
     },
     "output_type": "display_data"
    }
   ],
   "source": [
    "plot_confusion_matrix(cm=cm, classes=cm_plot_labels, title='Confusion Matrix')\n",
    "from sklearn.metrics import accuracy_score\n",
    "acc=accuracy_score(true_labels,prediction) \n",
    "print('Accuracy: %.3f' % acc)\n",
    "from sklearn.metrics import precision_score\n",
    "precision = precision_score(true_labels,prediction,labels=[1,2], average='micro')\n",
    "print('Precision: %.3f' % precision)\n",
    "from sklearn.metrics import recall_score\n",
    "recall = recall_score(true_labels,prediction, average='micro')\n",
    "print('Recall: %.3f' % recall)\n",
    "from sklearn.metrics import f1_score\n",
    "score = f1_score(true_labels,prediction, average='micro')\n",
    "print('F-Measure: %.3f' % score)"
   ]
  },
  {
   "cell_type": "code",
   "execution_count": 18,
   "metadata": {
    "executionInfo": {
     "elapsed": 1614,
     "status": "ok",
     "timestamp": 1610793863258,
     "user": {
      "displayName": "sathish kumar",
      "photoUrl": "",
      "userId": "09811313852492528034"
     },
     "user_tz": -330
    },
    "id": "rONFCJWgGB0x"
   },
   "outputs": [],
   "source": [
    "model.save('cancer.h5')"
>>>>>>> 9447f534c6b3b5767b17027bb09fb53fb2a894a9
   ]
  },
  {
   "cell_type": "code",
   "execution_count": null,
   "metadata": {},
   "outputs": [],
   "source": []
  }
 ],
 "metadata": {
  "colab": {
   "collapsed_sections": [],
   "name": "leaf.ipynb",
   "provenance": []
  },
  "kernelspec": {
   "display_name": "Python 3 (ipykernel)",
   "language": "python",
   "name": "python3"
  },
  "language_info": {
   "codemirror_mode": {
    "name": "ipython",
    "version": 3
   },
   "file_extension": ".py",
   "mimetype": "text/x-python",
   "name": "python",
   "nbconvert_exporter": "python",
   "pygments_lexer": "ipython3",
   "version": "3.11.5"
  }
 },
 "nbformat": 4,
 "nbformat_minor": 1
}
